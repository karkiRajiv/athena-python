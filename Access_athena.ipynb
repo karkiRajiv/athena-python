{
 "cells": [
  {
   "cell_type": "code",
   "execution_count": 3,
   "metadata": {},
   "outputs": [
    {
     "data": {
      "text/plain": [
       "'1.21.32'"
      ]
     },
     "execution_count": 3,
     "metadata": {},
     "output_type": "execute_result"
    }
   ],
   "source": [
    "import boto3\n",
    "boto3.__version__"
   ]
  },
  {
   "cell_type": "code",
   "execution_count": null,
   "metadata": {},
   "outputs": [],
   "source": [
    "s3 = boto3.resource('s3')\n",
    "# for bucket in s3.buckets.all():\n",
    "#     print(bucket.name)\n",
    "your_bucket = s3.Bucket('trainee-2022')\n",
    "files = list(your_bucket.objects.all())\n",
    "print((files))"
   ]
  },
  {
   "cell_type": "code",
   "execution_count": 75,
   "metadata": {},
   "outputs": [
    {
     "name": "stdout",
     "output_type": "stream",
     "text": [
      "rajiv_task/count_m_f2.csv\n"
     ]
    }
   ],
   "source": [
    "# # print((files))\n",
    "# for file in files:\n",
    "\n",
    "#     if 'rajiv_task/' in file.key:\n",
    "#         print(file.key)\n",
    "        \n",
    "        \n",
    "#     # if 'Ashish/' in file.key:\n",
    "#     #     print(file.key)\n"
   ]
  },
  {
   "cell_type": "code",
   "execution_count": null,
   "metadata": {},
   "outputs": [],
   "source": [
    "client1 = boto3.client('s3')\n",
    "response=client1.list_buckets()\n",
    "print(response)\n",
    "# response = client1.list_buckets(client1)"
   ]
  },
  {
   "cell_type": "code",
   "execution_count": 86,
   "metadata": {},
   "outputs": [],
   "source": [
    "client1.upload_file('output.csv','trainee-2022','rajiv_task/count_m_f.csv')"
   ]
  },
  {
   "cell_type": "code",
   "execution_count": null,
   "metadata": {},
   "outputs": [],
   "source": [
    "## to delete all file \n",
    "for file in files:\n",
    "\n",
    "    if 'rajiv_task/' in file.key:\n",
    "        print(file.key)\n",
    "        \n",
    "        client1.delete_object(Bucket='trainee-2022',Key=file.key)"
   ]
  },
  {
   "cell_type": "code",
   "execution_count": 209,
   "metadata": {},
   "outputs": [],
   "source": [
    "client1.download_file('techkraft-dataengineer',f'athena-results/05a1a8d2-2646-4ffa-9aef-c2e125eead35.csv','output2.csv')"
   ]
  },
  {
   "cell_type": "code",
   "execution_count": null,
   "metadata": {},
   "outputs": [],
   "source": [
    "for s3_file in your_bucket.objects.all():\n",
    "  \n",
    "    print(s3_file.key) # prints the contents/object available in bucket"
   ]
  },
  {
   "cell_type": "code",
   "execution_count": 22,
   "metadata": {},
   "outputs": [
    {
     "name": "stdout",
     "output_type": "stream",
     "text": [
      "<bound method ClientCreator._create_api_method.<locals>._api_call of <botocore.client.Athena object at 0x000001DDABDA0790>>\n"
     ]
    }
   ],
   "source": [
    "client = boto3.client('athena')\n",
    "print(client.list_databases)"
   ]
  },
  {
   "cell_type": "code",
   "execution_count": 23,
   "metadata": {},
   "outputs": [],
   "source": [
    "\n",
    "import time\n",
    "key = []\n",
    "value = []\n",
    "\n",
    "data = {}\n"
   ]
  },
  {
   "cell_type": "code",
   "execution_count": 24,
   "metadata": {},
   "outputs": [
    {
     "name": "stdout",
     "output_type": "stream",
     "text": [
      "Query successfully executed\n"
     ]
    }
   ],
   "source": [
    "\n",
    "response=client.start_query_execution(\n",
    "    QueryString='SELECT gender,count(*) FROM \"data-engineer\".\"claims\" Group by gender ; ',\n",
    "    QueryExecutionContext= {\n",
    "        'Database': 'data-engineer'\n",
    "    },\n",
    "    ResultConfiguration={\n",
    "        'OutputLocation':'s3://techkraft-dataengineer/athena-results/'\n",
    "\n",
    "    }\n",
    ")\n",
    "\n",
    "if response['ResponseMetadata']['HTTPStatusCode'] == 200:\n",
    "    print('Query successfully executed')\n",
    "queryExecutionId=response['QueryExecutionId']\n",
    "\n",
    "time.sleep(20)\n",
    "\n",
    "result= client.get_query_results(QueryExecutionId= queryExecutionId)\n",
    "\n",
    "count = 0\n",
    "for   row in result['ResultSet']['Rows']:\n",
    "    dataframe=row['Data']\n",
    "    # print(len(dataframe))\n",
    "    if count==0:\n",
    "        for i in range(len(dataframe)):\n",
    "            data=dataframe[i]['VarCharValue']\n",
    "            key.append(data)\n",
    "    elif count > 0:\n",
    "        for i in range(len(dataframe)):\n",
    "            data=dataframe[i]['VarCharValue']\n",
    "            \n",
    "            value.append(data)\n",
    "\n",
    "    \n",
    "    count=count+1\n",
    "\n",
    "\n",
    "\n"
   ]
  },
  {
   "cell_type": "code",
   "execution_count": 219,
   "metadata": {},
   "outputs": [
    {
     "name": "stdout",
     "output_type": "stream",
     "text": [
      "0 gender\n",
      "1 _col1\n",
      "0 gender\n",
      "1 _col1\n"
     ]
    }
   ],
   "source": [
    "\n",
    "data = {}\n",
    "for k in key:\n",
    "    data[k] = []\n",
    "for row in result['ResultSet']['Rows'][1:]:\n",
    "    for i,k in enumerate(key):\n",
    "        # print(i,k)\n",
    "        data[k].append(row['Data'][i]['VarCharValue'])\n",
    "\n"
   ]
  },
  {
   "cell_type": "code",
   "execution_count": null,
   "metadata": {},
   "outputs": [],
   "source": [
    "import pandas as pd\n",
    "df=pd.DataFrame(data)\n",
    "df.to_csv('output.csv',index=False)"
   ]
  },
  {
   "cell_type": "code",
   "execution_count": null,
   "metadata": {},
   "outputs": [],
   "source": [
    "response=client.start_query_execution(\n",
    "    QueryString='SELECT gender,count(*) FROM \"data-engineer\".\"claims\" Group by gender ; ',\n",
    "    QueryExecutionContext= {\n",
    "        'Database': 'data-engineer'\n",
    "    },\n",
    "    ResultConfiguration={\n",
    "        'OutputLocation':'s3://techkraft-dataengineer/athena-results/'\n",
    "\n",
    "    }\n",
    ")\n",
    "# print(response['HTTPStatusCode'])\n",
    "response['ResponseMetadata']['HTTPStatusCode']"
   ]
  },
  {
   "cell_type": "code",
   "execution_count": 25,
   "metadata": {},
   "outputs": [],
   "source": [
    "output2=response['QueryExecutionId']\n",
    "client1.download_file('techkraft-dataengineer',f'athena-results/{output2}.csv','output2.csv')"
   ]
  }
 ],
 "metadata": {
  "kernelspec": {
   "display_name": "Python 3.9.12 ('base')",
   "language": "python",
   "name": "python3"
  },
  "language_info": {
   "codemirror_mode": {
    "name": "ipython",
    "version": 3
   },
   "file_extension": ".py",
   "mimetype": "text/x-python",
   "name": "python",
   "nbconvert_exporter": "python",
   "pygments_lexer": "ipython3",
   "version": "3.9.12"
  },
  "orig_nbformat": 4,
  "vscode": {
   "interpreter": {
    "hash": "a71a9e4fb054fff428071484f7faa898cb9ecb31a518fe88e3463da9af879578"
   }
  }
 },
 "nbformat": 4,
 "nbformat_minor": 2
}

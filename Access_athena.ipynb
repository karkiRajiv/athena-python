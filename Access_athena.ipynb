{
 "cells": [
  {
   "cell_type": "code",
   "execution_count": 3,
   "metadata": {},
   "outputs": [
    {
     "data": {
      "text/plain": [
       "'1.21.32'"
      ]
     },
     "execution_count": 3,
     "metadata": {},
     "output_type": "execute_result"
    }
   ],
   "source": [
    "import boto3\n",
    "boto3.__version__"
   ]
  },
  {
   "cell_type": "code",
   "execution_count": 22,
   "metadata": {},
   "outputs": [
    {
     "name": "stdout",
     "output_type": "stream",
     "text": [
      "<bound method ClientCreator._create_api_method.<locals>._api_call of <botocore.client.Athena object at 0x000001DDABDA0790>>\n"
     ]
    }
   ],
   "source": [
    "##creating athena client \n",
    "client = boto3.client('athena')\n",
    "print(client.list_databases)"
   ]
  },
  {
   "cell_type": "code",
   "execution_count": 95,
   "metadata": {},
   "outputs": [
    {
     "name": "stdout",
     "output_type": "stream",
     "text": [
      "Query successfully executed\n"
     ]
    }
   ],
   "source": [
    "## creating response from athena \n",
    "import time\n",
    "response=client.start_query_execution(\n",
    "    QueryString='SELECT gender,count(*) FROM \"data-engineer\".\"claims\" Group by gender ; ',\n",
    "    QueryExecutionContext= {\n",
    "        'Database': 'data-engineer'\n",
    "    },\n",
    "    ResultConfiguration={\n",
    "        'OutputLocation':'s3://techkraft-dataengineer/athena-results/'\n",
    "    }\n",
    ")\n",
    "if response['ResponseMetadata']['HTTPStatusCode'] == 200:\n",
    "    print('Query successfully executed')\n",
    "queryExecutionId=response['QueryExecutionId']\n",
    "\n",
    "time.sleep(20)\n",
    "\n",
    "result= client.get_query_results(QueryExecutionId= queryExecutionId)\n"
   ]
  },
  {
   "cell_type": "code",
   "execution_count": 102,
   "metadata": {},
   "outputs": [],
   "source": [
    "## extracting headers \n",
    "key = []\n",
    "value = []\n",
    "data = {}\n",
    "count = 0\n",
    "for   row in result['ResultSet']['Rows']:\n",
    "    dataframe=row['Data']\n",
    "    # print(len(dataframe))\n",
    "    if count==0:\n",
    "        for i in range(len(dataframe)):\n",
    "            header=dataframe[i]['VarCharValue']\n",
    "            key.append(header)\n",
    "    count=count+1"
   ]
  },
  {
   "cell_type": "code",
   "execution_count": 104,
   "metadata": {},
   "outputs": [
    {
     "name": "stdout",
     "output_type": "stream",
     "text": [
      "0 gender\n",
      "1 _col1\n",
      "0 gender\n",
      "1 _col1\n"
     ]
    }
   ],
   "source": [
    "## extracting body of table and converting into dict \n",
    "for k in key:\n",
    "    data[k] = []\n",
    "for row in result['ResultSet']['Rows'][1:]:\n",
    "    for i,k in enumerate(key):\n",
    "        print(i,k)\n",
    "        data[k].append(row['Data'][i]['VarCharValue'])\n"
   ]
  },
  {
   "cell_type": "code",
   "execution_count": 101,
   "metadata": {},
   "outputs": [],
   "source": [
    "import pandas as pd\n",
    "df=pd.DataFrame(data)\n",
    "df.to_csv('output.csv',index=False)"
   ]
  },
  {
   "cell_type": "code",
   "execution_count": null,
   "metadata": {},
   "outputs": [],
   "source": [
    "## creating s3 client \n",
    "client1 = boto3.client('s3')\n",
    "response=client1.list_buckets()\n",
    "print(response)\n",
    "# response = client1.list_buckets(client1)"
   ]
  },
  {
   "cell_type": "code",
   "execution_count": null,
   "metadata": {},
   "outputs": [],
   "source": [
    "## to upload file \n",
    "client1.upload_file('output.csv','trainee-2022','rajiv_task/count_m_f.csv')"
   ]
  },
  {
   "cell_type": "code",
   "execution_count": null,
   "metadata": {},
   "outputs": [],
   "source": [
    "## to delete all file \n",
    "resource = boto3.resource('s3')\n",
    "\n",
    "your_bucket = resource.Bucket('trainee-2022')\n",
    "files = list(your_bucket.objects.all())\n",
    "print((files))\n",
    "for file in files:\n",
    "\n",
    "    if 'rajiv_task/' in file.key:\n",
    "        print(file.key)\n",
    "        \n",
    "        client1.delete_object(Bucket='trainee-2022',Key=file.key)"
   ]
  },
  {
   "cell_type": "code",
   "execution_count": 25,
   "metadata": {},
   "outputs": [],
   "source": [
    "## download file from athena \n",
    "output2=response['QueryExecutionId']\n",
    "client1.download_file('techkraft-dataengineer',f'athena-results/{output2}.csv','output2.csv')"
   ]
  }
 ],
 "metadata": {
  "kernelspec": {
   "display_name": "Python 3.9.12 ('base')",
   "language": "python",
   "name": "python3"
  },
  "language_info": {
   "codemirror_mode": {
    "name": "ipython",
    "version": 3
   },
   "file_extension": ".py",
   "mimetype": "text/x-python",
   "name": "python",
   "nbconvert_exporter": "python",
   "pygments_lexer": "ipython3",
   "version": "3.9.12"
  },
  "orig_nbformat": 4,
  "vscode": {
   "interpreter": {
    "hash": "a71a9e4fb054fff428071484f7faa898cb9ecb31a518fe88e3463da9af879578"
   }
  }
 },
 "nbformat": 4,
 "nbformat_minor": 2
}
